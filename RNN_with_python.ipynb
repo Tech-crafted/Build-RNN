{
  "nbformat": 4,
  "nbformat_minor": 0,
  "metadata": {
    "colab": {
      "provenance": [],
      "authorship_tag": "ABX9TyOMv3XHW6548pNMdF2cMgXV",
      "include_colab_link": true
    },
    "kernelspec": {
      "name": "python3",
      "display_name": "Python 3"
    },
    "language_info": {
      "name": "python"
    }
  },
  "cells": [
    {
      "cell_type": "markdown",
      "metadata": {
        "id": "view-in-github",
        "colab_type": "text"
      },
      "source": [
        "<a href=\"https://colab.research.google.com/github/Tech-crafted/Build-RNN/blob/main/RNN_with_python.ipynb\" target=\"_parent\"><img src=\"https://colab.research.google.com/assets/colab-badge.svg\" alt=\"Open In Colab\"/></a>"
      ]
    },
    {
      "cell_type": "code",
      "source": [
        "import numpy as np\n",
        "import pandas as pd\n",
        "import random\n",
        "with open(\"/content/data.py\", \"r\") as file:\n",
        "    data = file.read()\n",
        "print(data)"
      ],
      "metadata": {
        "colab": {
          "base_uri": "https://localhost:8080/"
        },
        "id": "avH_QPT1V6UY",
        "outputId": "052bee97-b12c-4881-881f-045fc45a958f"
      },
      "execution_count": 5,
      "outputs": [
        {
          "output_type": "stream",
          "name": "stdout",
          "text": [
            "train_data = {\n",
            "  'good': True,\n",
            "  'bad': False,\n",
            "  'happy': True,\n",
            "  'sad': False,\n",
            "  'not good': False,\n",
            "  'not bad': True,\n",
            "  'not happy': False,\n",
            "  'not sad': True,\n",
            "  'very good': True,\n",
            "  'very bad': False,\n",
            "  'very happy': True,\n",
            "  'very sad': False,\n",
            "  'i am happy': True,\n",
            "  'this is good': True,\n",
            "  'i am bad': False,\n",
            "  'this is bad': False,\n",
            "  'i am sad': False,\n",
            "  'this is sad': False,\n",
            "  'i am not happy': False,\n",
            "  'this is not good': False,\n",
            "  'i am not bad': True,\n",
            "  'this is not sad': True,\n",
            "  'i am very happy': True,\n",
            "  'this is very good': True,\n",
            "  'i am very bad': False,\n",
            "  'this is very sad': False,\n",
            "  'this is very happy': True,\n",
            "  'i am good not bad': True,\n",
            "  'this is good not bad': True,\n",
            "  'i am bad not good': False,\n",
            "  'i am good and happy': True,\n",
            "  'this is not good and not happy': False,\n",
            "  'i am not at all good': False,\n",
            "  'i am not at all bad': True,\n",
            "  'i am not at all happy': False,\n",
            "  'this is not at all sad': True,\n",
            "  'this is not at all happy': False,\n",
            "  'i am good right now': True,\n",
            "  'i am bad right now': False,\n",
            "  'this is bad right now': False,\n",
            "  'i am sad right now': False,\n",
            "  'i was good earlier': True,\n",
            "  'i was happy earlier': True,\n",
            "  'i was bad earlier': False,\n",
            "  'i was sad earlier': False,\n",
            "  'i am very bad right now': False,\n",
            "  'this is very good right now': True,\n",
            "  'this is very sad right now': False,\n",
            "  'this was bad earlier': False,\n",
            "  'this was very good earlier': True,\n",
            "  'this was very bad earlier': False,\n",
            "  'this was very happy earlier': True,\n",
            "  'this was very sad earlier': False,\n",
            "  'i was good and not bad earlier': True,\n",
            "  'i was not good and not happy earlier': False,\n",
            "  'i am not at all bad or sad right now': True,\n",
            "  'i am not at all good or happy right now': False,\n",
            "  'this was not happy and not good earlier': False,\n",
            "}\n",
            "\n",
            "test_data = {\n",
            "  'this is happy': True,\n",
            "  'i am good': True,\n",
            "  'this is not happy': False,\n",
            "  'i am not good': False,\n",
            "  'this is not bad': True,\n",
            "  'i am not sad': True,\n",
            "  'i am very good': True,\n",
            "  'this is very bad': False,\n",
            "  'i am very sad': False,\n",
            "  'this is bad not good': False,\n",
            "  'this is good and happy': True,\n",
            "  'i am not good and not happy': False,\n",
            "  'i am not at all sad': True,\n",
            "  'this is not at all good': False,\n",
            "  'this is not at all bad': True,\n",
            "  'this is good right now': True,\n",
            "  'this is sad right now': False,\n",
            "  'this is very bad right now': False,\n",
            "  'this was good earlier': True,\n",
            "  'i was not happy and not good earlier': False,\n",
            "}\n",
            "\n"
          ]
        }
      ]
    },
    {
      "cell_type": "code",
      "source": [
        "from data import train_data, test_data\n",
        "vocab = list(set([w for text in train_data.keys() for w in text.split(' ')]))\n",
        "vocab_size = len(vocab)\n",
        "print('%d unique words found' % vocab_size)"
      ],
      "metadata": {
        "colab": {
          "base_uri": "https://localhost:8080/"
        },
        "id": "DjQUoXCMbAN1",
        "outputId": "5b6505cd-9ecd-4a55-faa0-da2c78803b9b"
      },
      "execution_count": 6,
      "outputs": [
        {
          "output_type": "stream",
          "name": "stdout",
          "text": [
            "18 unique words found\n"
          ]
        }
      ]
    },
    {
      "cell_type": "code",
      "source": [
        "word_to_idx = { w: i for i, w in enumerate(vocab) }\n",
        "idx_to_word = { i: w for i, w in enumerate(vocab) }\n",
        "# print(word_to_idx['good'])\n",
        "# print(idx_to_word[0])"
      ],
      "metadata": {
        "id": "0lBjli_eZj7v"
      },
      "execution_count": 7,
      "outputs": []
    },
    {
      "cell_type": "code",
      "source": [
        "def createInputs(text):\n",
        "    inputs = []\n",
        "    for w in text.split(' '):\n",
        "        if w in word_to_idx:  # check first\n",
        "            v = np.zeros((vocab_size, 1))\n",
        "            v[word_to_idx[w]] = 1\n",
        "            inputs.append(v)\n",
        "    return inputs"
      ],
      "metadata": {
        "id": "MWHKSch2ach0"
      },
      "execution_count": 8,
      "outputs": []
    },
    {
      "cell_type": "code",
      "source": [
        "import numpy as np\n",
        "\n",
        "class RNN:\n",
        "    def __init__(self, input_size, output_size, hidden_size=64):\n",
        "        self.Whh = np.random.randn(hidden_size, hidden_size) / 1000\n",
        "        self.Wxh = np.random.randn(hidden_size, input_size) / 1000\n",
        "        self.Why = np.random.randn(output_size, hidden_size) / 1000\n",
        "        self.bh = np.zeros((hidden_size, 1))\n",
        "        self.by = np.zeros((output_size, 1))\n",
        "\n",
        "    def forward(self, inputs):\n",
        "        h = np.zeros((self.Whh.shape[0], 1))\n",
        "        self.last_inputs = inputs\n",
        "        self.last_hs = { 0: h }\n",
        "        for i, x in enumerate(inputs):\n",
        "            h = np.tanh(self.Wxh @ x + self.Whh @ h + self.bh)\n",
        "            self.last_hs[i + 1] = h\n",
        "        y = self.Why @ h + self.by\n",
        "        return y, h\n",
        "    def backprop(self,d_y,learn_rate=2e-2):\n",
        "        n = len(self.last_inputs)\n",
        "        d_Why = d_y @ self.last_hs[n].T\n",
        "        d_by = d_y\n",
        "        d_Whh = np.zeros(self.Whh.shape)\n",
        "        d_Wxh = np.zeros(self.Wxh.shape)\n",
        "        d_bh = np.zeros(self.bh.shape)\n",
        "        d_h = self.Why.T @ d_y\n",
        "        for t in reversed(range(n)):\n",
        "          temp = ((1-self.last_hs[t+1]**2)*d_h)\n",
        "          d_bh += temp\n",
        "          d_Whh += temp @ self.last_hs[t].T\n",
        "          d_Wxh += temp @ self.last_inputs[t].T\n",
        "          d_h = self.Whh @ temp\n",
        "        for d in [d_Wxh, d_Whh, d_Why, d_bh, d_by]:\n",
        "          np.clip(d, -1, 1, out=d)\n",
        "        self.Whh -= learn_rate * d_Whh\n",
        "        self.Wxh -= learn_rate * d_Wxh\n",
        "        self.Why -= learn_rate * d_Why\n",
        "        self.bh -= learn_rate * d_bh\n",
        "        self.by -= learn_rate * d_by"
      ],
      "metadata": {
        "id": "OOX_kHCldxCk"
      },
      "execution_count": 9,
      "outputs": []
    },
    {
      "cell_type": "code",
      "source": [
        "def softmax(xs):\n",
        "  return np.exp(xs) / sum(np.exp(xs))\n",
        "\n",
        "rnn = RNN(vocab_size, 2)\n",
        "inputs = createInputs('happy')\n",
        "out, h = rnn.forward(inputs)\n",
        "probs = softmax(out)\n",
        "print(probs)"
      ],
      "metadata": {
        "colab": {
          "base_uri": "https://localhost:8080/"
        },
        "id": "tPB9TM1RiUXQ",
        "outputId": "a3c96915-24cb-4dde-a120-d863bac01d40"
      },
      "execution_count": 10,
      "outputs": [
        {
          "output_type": "stream",
          "name": "stdout",
          "text": [
            "[[0.50000316]\n",
            " [0.49999684]]\n"
          ]
        }
      ]
    },
    {
      "cell_type": "code",
      "source": [
        "def processData(data, backprop=True):\n",
        "  items = list(data.items())\n",
        "  random.shuffle(items)\n",
        "  loss = 0\n",
        "  num_correct = 0\n",
        "  for x, y in items:\n",
        "    inputs = createInputs(x)\n",
        "    target = int(y)\n",
        "    out, _ = rnn.forward(inputs)\n",
        "    probs = softmax(out)\n",
        "    loss -= np.log(probs[target])\n",
        "    num_correct += int(np.argmax(probs) == target)\n",
        "    if backprop:\n",
        "      d_L_d_y = probs\n",
        "      d_L_d_y[target] -= 1\n",
        "      rnn.backprop(d_L_d_y)\n",
        "  return loss / len(data), num_correct / len(data)"
      ],
      "metadata": {
        "id": "FwHNrEx0rE8U"
      },
      "execution_count": 11,
      "outputs": []
    },
    {
      "cell_type": "code",
      "source": [
        "# Training loop\n",
        "for epoch in range(1000):\n",
        "  train_loss, train_acc = processData(train_data)\n",
        "\n",
        "  if epoch % 100 == 99:\n",
        "    print('--- Epoch %d' % (epoch + 1))\n",
        "    print('Train:\\tLoss %.3f | Accuracy: %.3f' % (train_loss, train_acc))\n",
        "    test_loss, test_acc = processData(test_data, backprop=False)\n",
        "    print('Test:\\tLoss %.3f | Accuracy: %.3f' % (test_loss, test_acc))"
      ],
      "metadata": {
        "colab": {
          "base_uri": "https://localhost:8080/"
        },
        "id": "s3Hano3KvdJQ",
        "outputId": "9bdb4d50-385e-495a-fbd8-51913921d899"
      },
      "execution_count": 12,
      "outputs": [
        {
          "output_type": "stream",
          "name": "stdout",
          "text": [
            "--- Epoch 100\n",
            "Train:\tLoss 0.689 | Accuracy: 0.552\n",
            "Test:\tLoss 0.697 | Accuracy: 0.500\n"
          ]
        },
        {
          "output_type": "stream",
          "name": "stderr",
          "text": [
            "/tmp/ipython-input-12-3022058651.py:7: DeprecationWarning: Conversion of an array with ndim > 0 to a scalar is deprecated, and will error in future. Ensure you extract a single element from your array before performing this operation. (Deprecated NumPy 1.25.)\n",
            "  print('Train:\\tLoss %.3f | Accuracy: %.3f' % (train_loss, train_acc))\n",
            "/tmp/ipython-input-12-3022058651.py:9: DeprecationWarning: Conversion of an array with ndim > 0 to a scalar is deprecated, and will error in future. Ensure you extract a single element from your array before performing this operation. (Deprecated NumPy 1.25.)\n",
            "  print('Test:\\tLoss %.3f | Accuracy: %.3f' % (test_loss, test_acc))\n"
          ]
        },
        {
          "output_type": "stream",
          "name": "stdout",
          "text": [
            "--- Epoch 200\n",
            "Train:\tLoss 0.672 | Accuracy: 0.638\n",
            "Test:\tLoss 0.718 | Accuracy: 0.450\n",
            "--- Epoch 300\n",
            "Train:\tLoss 0.561 | Accuracy: 0.707\n",
            "Test:\tLoss 0.639 | Accuracy: 0.700\n",
            "--- Epoch 400\n",
            "Train:\tLoss 0.471 | Accuracy: 0.776\n",
            "Test:\tLoss 0.682 | Accuracy: 0.650\n",
            "--- Epoch 500\n",
            "Train:\tLoss 0.226 | Accuracy: 0.879\n",
            "Test:\tLoss 0.380 | Accuracy: 0.800\n",
            "--- Epoch 600\n",
            "Train:\tLoss 0.061 | Accuracy: 1.000\n",
            "Test:\tLoss 0.127 | Accuracy: 0.950\n",
            "--- Epoch 700\n",
            "Train:\tLoss 0.004 | Accuracy: 1.000\n",
            "Test:\tLoss 0.012 | Accuracy: 1.000\n",
            "--- Epoch 800\n",
            "Train:\tLoss 0.002 | Accuracy: 1.000\n",
            "Test:\tLoss 0.005 | Accuracy: 1.000\n",
            "--- Epoch 900\n",
            "Train:\tLoss 0.001 | Accuracy: 1.000\n",
            "Test:\tLoss 0.003 | Accuracy: 1.000\n",
            "--- Epoch 1000\n",
            "Train:\tLoss 0.001 | Accuracy: 1.000\n",
            "Test:\tLoss 0.002 | Accuracy: 1.000\n"
          ]
        }
      ]
    },
    {
      "cell_type": "code",
      "source": [
        "def predict(text):\n",
        "    inputs = createInputs(text)\n",
        "    out, _ = rnn.forward(inputs)\n",
        "    probs = softmax(out)\n",
        "\n",
        "    if np.argmax(probs) == 1:\n",
        "        print(\"True\")\n",
        "    else:\n",
        "        print(\"False\")"
      ],
      "metadata": {
        "id": "zyNHvLAev8kL"
      },
      "execution_count": 13,
      "outputs": []
    },
    {
      "cell_type": "code",
      "source": [
        "predict('I am very sad')"
      ],
      "metadata": {
        "colab": {
          "base_uri": "https://localhost:8080/"
        },
        "id": "Oe3j9oe48lsh",
        "outputId": "4901f1ac-d6c7-44a7-d0e5-50b0588748dc"
      },
      "execution_count": 14,
      "outputs": [
        {
          "output_type": "stream",
          "name": "stdout",
          "text": [
            "False\n"
          ]
        }
      ]
    },
    {
      "cell_type": "code",
      "source": [],
      "metadata": {
        "id": "N-FusN6k9nre"
      },
      "execution_count": 14,
      "outputs": []
    }
  ]
}